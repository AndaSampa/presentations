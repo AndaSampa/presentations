{
 "cells": [
  {
   "cell_type": "markdown",
   "id": "5d4d5631",
   "metadata": {
    "slideshow": {
     "slide_type": "slide"
    }
   },
   "source": [
    "> Mapeamento dos Locais Passíveis de Ampliação de Calçadas à Partir de Informações Geográficas Voluntárias (VGI) e Visão Computacional Para a Cidade de São Paulo\n",
    "\n",
    "Aluno: Fernando Gomes<br/>\n",
    "Orientador: Prof. Me. Sergio José Venancio Júnior\n",
    "\n",
    "Centro Universitário Belas Artes, Junho de 2022"
   ]
  },
  {
   "cell_type": "markdown",
   "id": "5dadf74d",
   "metadata": {
    "slideshow": {
     "slide_type": "slide"
    }
   },
   "source": [
    "Contexto amplo da pesquisa:<br/>\n",
    "> AndaSAMPA: O Sistema de Espaços Livres (SEL) Públicos (SELP), para Acessibilidade e Mobilidade Pedonal ou Assistida na Cidade de São Paulo\n",
    "\n",
    "SEL --> AndaSAMPA <-- Eng. Tranportes"
   ]
  },
  {
   "cell_type": "markdown",
   "id": "c7b19142",
   "metadata": {
    "slideshow": {
     "slide_type": "slide"
    }
   },
   "source": [
    "## Introdução\n",
    "\n",
    "- Espaço local de disputa entre os usos e gera desigualdades\n",
    "- Exemplo são as vagas e os parklets\n",
    "- Similaridade potencial precedente para ocupação e discussão sobre o leito carroçável\n"
   ]
  },
  {
   "cell_type": "markdown",
   "id": "5a9c3321",
   "metadata": {
    "slideshow": {
     "slide_type": "slide"
    }
   },
   "source": [
    "## Motivação\n",
    "\n",
    "- A mobilidade pedonal\n",
    "  - democratização do espaço\n",
    "  - saúde\n",
    "  - economia\n",
    "- Perspectiva do pedestre\n",
    "- Desigualdade e precariedade da infra-estrutura"
   ]
  },
  {
   "cell_type": "markdown",
   "id": "f24608cf",
   "metadata": {
    "slideshow": {
     "slide_type": "slide"
    }
   },
   "source": [
    "## Premissa\n",
    "\n",
    "- Análise ampla dos critérios\n",
    "- Analogia com os Parklets\n",
    "- Poderão resultar em evidências\n",
    "- Políticas públicas"
   ]
  },
  {
   "cell_type": "markdown",
   "id": "9d05dfc9",
   "metadata": {
    "slideshow": {
     "slide_type": "slide"
    }
   },
   "source": [
    "## Objetivo\n",
    "\n",
    "- Método para mapear locais passíveis para ampliação das calçadas\n",
    "    - Criar argumentos para políticas públicas\n",
    "    - Discutir o meio-fio e o uso público da via"
   ]
  },
  {
   "cell_type": "markdown",
   "id": "602adaf1",
   "metadata": {
    "slideshow": {
     "slide_type": "slide"
    }
   },
   "source": [
    "## Referencial/Recorte Teórico\n",
    "\n",
    "- Não existem dados organizados sobre locais de estacionamento (nem dos limites da via pública, é o que sobra!)\n",
    "- Interesse acadêmico para identificação de placas e sinalização\n",
    "- Utilização de Imagens StreetView\n",
    "- Mapillary vs. Google StreetView\n",
    "- Aquisição privada (investimento) vs. VGI/VSVI (Volunteered Street View Imagery)"
   ]
  },
  {
   "cell_type": "markdown",
   "id": "46cf3764",
   "metadata": {
    "slideshow": {
     "slide_type": "slide"
    }
   },
   "source": [
    "## Materiais, métodos e aplicação do método\n",
    "\n",
    "![images/diagrama-metodo-ampliacao-calcadas.png](images/diagrama-metodo-ampliacao-calcadas.png)"
   ]
  },
  {
   "cell_type": "markdown",
   "id": "c722d420",
   "metadata": {
    "slideshow": {
     "slide_type": "fragment"
    }
   },
   "source": [
    "Será que temos um tempinho para abrir o [Mapillary](https://www.mapillary.com/app/?lat=-23.591014760479&lng=-46.64079345306&z=17&pKey=307687247553303&menu=false&focus=map&trafficSign=all&mapFeature=all)? "
   ]
  },
  {
   "cell_type": "markdown",
   "id": "672ebb0e",
   "metadata": {
    "slideshow": {
     "slide_type": "slide"
    }
   },
   "source": [
    "## Limitações\n",
    "    \n",
    "- Guias rebaixadas e o paradoxo do uso privado do meio-fio\n",
    "- Proximidades com esquinas\n",
    "- Vagas 45 e 90 graus"
   ]
  },
  {
   "cell_type": "markdown",
   "id": "de582844",
   "metadata": {
    "slideshow": {
     "slide_type": "slide"
    }
   },
   "source": [
    "> Achado da pesquisa\n",
    "\n",
    ">> \"A desigualdade territorial parece ser estrutural em São Paulo: mesmo dados voluntários evidenciam uma lógica da centralidade, similar à diversos outros fenômenos de desigualdade como: rendal, raça e classe\""
   ]
  },
  {
   "cell_type": "markdown",
   "id": "6a74dea6",
   "metadata": {
    "slideshow": {
     "slide_type": "slide"
    }
   },
   "source": [
    "### Desigualdade em números\n",
    "\n",
    "- Do total de 12434.92 Km Logradouros, apenas 33.43%, ou seja, 4157.56 Km tem cobertura\n",
    "- Jardim Paulista, Moema e Consolação -> 91,64%, 86,25% e 84,57%\n",
    "- Marsilac, Parelheiros e Jardim Helena -> 2,15%, 5,32% e 6,62%\n",
    "- Vias Locais e Coletoras juntas representam 98,29% do montante sem cobertura"
   ]
  },
  {
   "cell_type": "markdown",
   "id": "15a5e029",
   "metadata": {
    "slideshow": {
     "slide_type": "slide"
    }
   },
   "source": [
    "![](images/distribuicao-cobertura-mapillary.png)"
   ]
  },
  {
   "cell_type": "markdown",
   "id": "06c20c2a",
   "metadata": {
    "slideshow": {
     "slide_type": "slide"
    }
   },
   "source": [
    "## Considerações finais:\n",
    "\n",
    "- Avaliação do método para o objetivo é inconclusiva\n",
    "- Mas potencial\n",
    "\n",
    "## Propostas\n",
    "\n",
    "- f-VGI\n",
    "- PPGIS com o SP156"
   ]
  },
  {
   "cell_type": "markdown",
   "id": "4c1a8d93",
   "metadata": {
    "slideshow": {
     "slide_type": "slide"
    }
   },
   "source": [
    "## Perguntas e desdobramentos\n",
    "\n",
    "> A desigualdade encontrada se reproduz em outras metrópoles?\n",
    "\n",
    "> Sensoriamento remoto e inventário urbano à partir do método para outros aspectos do espaço livre público\n"
   ]
  },
  {
   "cell_type": "markdown",
   "id": "052e8be8",
   "metadata": {
    "slideshow": {
     "slide_type": "slide"
    }
   },
   "source": [
    "### Obrigado\n",
    "\n",
    "> feromes@usp.br\n",
    ">> https://github.com/AndaSampa"
   ]
  }
 ],
 "metadata": {
  "celltoolbar": "Slideshow",
  "kernelspec": {
   "display_name": "Python 3 (ipykernel)",
   "language": "python",
   "name": "python3"
  },
  "language_info": {
   "codemirror_mode": {
    "name": "ipython",
    "version": 3
   },
   "file_extension": ".py",
   "mimetype": "text/x-python",
   "name": "python",
   "nbconvert_exporter": "python",
   "pygments_lexer": "ipython3",
   "version": "3.9.7"
  }
 },
 "nbformat": 4,
 "nbformat_minor": 5
}
