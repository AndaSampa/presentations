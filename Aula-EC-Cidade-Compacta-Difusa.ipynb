{
 "cells": [
  {
   "cell_type": "markdown",
   "id": "f4925f91",
   "metadata": {},
   "source": [
    "# Cidade compacta, cidade difusa\n",
    "\n",
    "> Uma abordagem morfo-espacial, metodológica e ferramental\n",
    "\n",
    "* Fernando Gomes, Arquiteto, Urban(ista|logista), Analista de Sistemas, Programador, Doutorando em Engenharia no Dept. de Transportes na área de Inf. Espaciais, tema sobre mobilidade ativa pedonal pela Poli/USP"
   ]
  },
  {
   "cell_type": "markdown",
   "id": "e24583eb",
   "metadata": {},
   "source": [
    "## Cidade, centralidade, difusa, confusa\n",
    "\n",
    "* O que é a cidade? O que é Natural? O que é social/cultural?\n",
    "* Você mora na cidade? Você mora na sua residiência? Existe vida na rua?\n",
    "* Como representamos, descrevemos e prescrevemos a cidade? Nossas ferramentas são adequadas?\n",
    "* Quem somos a cidade? A cidade é uma só para todes? A cidade é uma perspectiva individual e diiversa?\n",
    "* Cidade é poder? Você pode __ na Cidade? Poder gera desigualdade?"
   ]
  },
  {
   "cell_type": "markdown",
   "id": "6e0400f9",
   "metadata": {},
   "source": [
    "## Como vai ser essa aula\n",
    "\n",
    "* Freiriana (Paulo Freire), Moraniana (Edgar Morin), Delleuzziana (Gilles Deleuzze)\n",
    "* Não será Montessoriana ()\n",
    "* Um convite para um passeio, multidimensional diverso e cheio de possibilidades perspectivas\n",
    "\n",
    "> Talvez não faça sentido termos a palavra ensinar e aprender na contemporainedade. Em breve serão uma única palavra como brincar, dançar ou coperar"
   ]
  },
  {
   "cell_type": "markdown",
   "id": "2dacc993",
   "metadata": {},
   "source": [
    "## Nossa trilha de hoje\n",
    "\n",
    "* A complexidade da cidade\n",
    "* Smart City ou Smarrt Citzen: Cidadania e sistemas espaciais\n",
    "* A natureza espacial do dado\n",
    "* Rede, poder e desigualdade (Não é série da HBO, mas poderia ser)\n",
    "* Guia Urbanígena para o Apocalipse Zumbi"
   ]
  },
  {
   "cell_type": "markdown",
   "id": "54488e77",
   "metadata": {},
   "source": [
    "## Mas e a natureza?\n",
    "\n",
    "* O que é natural?\n",
    "* BIO-PSICO-SOCIAL\n",
    "* Processos de alienação\n",
    "* A cidade é natural?\n",
    "* A perspectiva do cubo branco modernista"
   ]
  },
  {
   "cell_type": "code",
   "execution_count": null,
   "id": "1b5436ed",
   "metadata": {},
   "outputs": [],
   "source": []
  }
 ],
 "metadata": {
  "kernelspec": {
   "display_name": "Python 3 (ipykernel)",
   "language": "python",
   "name": "python3"
  },
  "language_info": {
   "codemirror_mode": {
    "name": "ipython",
    "version": 3
   },
   "file_extension": ".py",
   "mimetype": "text/x-python",
   "name": "python",
   "nbconvert_exporter": "python",
   "pygments_lexer": "ipython3",
   "version": "3.8.5"
  }
 },
 "nbformat": 4,
 "nbformat_minor": 5
}
