{
 "cells": [
  {
   "cell_type": "markdown",
   "id": "f4925f91",
   "metadata": {},
   "source": [
    "# Cidade compacta, cidade difusa\n",
    "\n",
    "> Uma abordagem morfo-socio-espacial, metodológica e ferramental\n",
    "\n",
    "* Fernando Gomes, homem, branco, cis-genero, Arquiteto, Urban(ista|logista), Analista de Sistemas, Programador, Doutorando em Engenharia no Dept. de Transportes na área de Inf. Espaciais, tema sobre mobilidade ativa pedonal pela Poli/USP\n",
    "* @feromes\n",
    "* feromes@usp.br"
   ]
  },
  {
   "cell_type": "markdown",
   "id": "e24583eb",
   "metadata": {},
   "source": [
    "## Cidade, centralidade, difusa, confusa\n",
    "\n",
    "* O que é a cidade? O que é Natural? O que é social/cultural?\n",
    "* Você mora na cidade? Você mora na sua residiência? Existe vida na rua?\n",
    "* Como representamos, descrevemos e prescrevemos a cidade? Nossas ferramentas são adequadas?\n",
    "* Quem somos a cidade? A cidade é uma só para todes? A cidade é uma perspectiva individual e diiversa?\n",
    "* Cidade é poder? Você pode __ na Cidade? Poder gera desigualdade?"
   ]
  },
  {
   "cell_type": "markdown",
   "id": "6e0400f9",
   "metadata": {},
   "source": [
    "## Como vai ser essa aula\n",
    "\n",
    "* Freiriana (Paulo Freire), Moraniana (Edgar Morin), Delleuzziana (Gilles Deleuzze)\n",
    "* Um convite para um passeio, multidimensional diverso e cheio de possibilidades perspectivas\n",
    "\n",
    "> Talvez não faça sentido termos a palavra ensinar e aprender na contemporainedade. Em breve serão uma única palavra como brincar, dançar ou coperar"
   ]
  },
  {
   "cell_type": "markdown",
   "id": "2dacc993",
   "metadata": {},
   "source": [
    "## Nossa trilha de hoje\n",
    "\n",
    "* Emoção (Teoria)\n",
    "    * A complexidade da cidade (Abstração)\n",
    "    * Smart City ou Smarrt Citzen: Cidadania e sistemas espaciais (Sociedade)\n",
    "    * A natureza espacial do dado (Natureza)\n",
    "    * Rede, poder e desigualdade \n",
    "* Ação (Prática)\n",
    "    * Guia Urbanígena para o Apocalipse Zumbi"
   ]
  },
  {
   "cell_type": "markdown",
   "id": "d1435056",
   "metadata": {},
   "source": [
    "# O que é a cidade?\n",
    "\n",
    "> “a cidade é a mais complexa das invenções humanas, (...) na confluência da natureza com o artefato” (LÉVI-STRAUSS, 1954, p. 137-138 apud MOUDON, 1997, p. 3)\n",
    "\n",
    "* A aula poderia acabar agora, mas talvez não acabe nunca\n",
    "* O que é artefato, o que é natural?\n",
    "* Vamos pensar nas possíveis escalas dessa frase ..."
   ]
  },
  {
   "cell_type": "markdown",
   "id": "252b3650",
   "metadata": {},
   "source": [
    "## Último capítulo de Morte e Vida nas Grandes Cidades\n",
    "\n",
    "* Jane Jacobs (1961), quem não leu?\n",
    "* Qual o tipo de problema é a cidade?\n",
    "* Dr. Weaver\n",
    "\n",
    "> A cidade é um problema de complexidade organizada\n",
    "\n",
    "http://revistademorfologiaurbana.org/index.php/rmu/article/view/118/64\n"
   ]
  },
  {
   "cell_type": "markdown",
   "id": "83a45fc0",
   "metadata": {},
   "source": [
    "## A cidade não é uma árvore\n",
    "\n",
    "* Cristopher Alexander (1961)\n",
    "* Arquiteto, Urbanista e Matemático\n",
    "\n",
    "http://en.bp.ntu.edu.tw/wp-content/uploads/2011/12/06-Alexander-A-city-is-not-a-tree.pdf\n"
   ]
  },
  {
   "cell_type": "markdown",
   "id": "86579857",
   "metadata": {},
   "source": [
    "## A teoria da complexidade de Edgard Morin\n",
    "\n",
    "> \"complexidade é um tecido (complexus: o que é tecido junto) de constituintes heterogêneas inseparavelmente associadas: ela coloca o paradoxo do uno e do múltiplo” (MORIN, 2015, p. 13)\n",
    "\n",
    "> “O pensamento complexo não recusa de modo algum a clareza, a ordem, o determinismo. Ele os considera insuficiente, sabe que não se pode programar a descoberta, o conhecimento, nem a ação” (2015, p. 83)\n",
    "\n",
    "MORIN, Edgar. Introdução ao Pensamento Complexo. Porto Alegre: Sulina, 2015. 120 p."
   ]
  },
  {
   "cell_type": "markdown",
   "id": "bc70c1c4",
   "metadata": {},
   "source": [
    "## Mas o que a complexidade tem haver com o Urbanismo?\n",
    "\n",
    "> Cogito ergo sum (Penso logo existo)\n",
    "\n",
    "* A simplicidade do planejamento urbano por variáveis simplistas e mono-dimensionais\n",
    "    * Moradia vs. Emprego\n",
    "    * A família heteronormativa\n",
    "    * A cidade compartimentada\n",
    "* Diferente da matemática os arranjos não precisam fazer sentido para todos\n",
    "\n"
   ]
  },
  {
   "cell_type": "markdown",
   "id": "2d5cfae8",
   "metadata": {},
   "source": [
    "## Então quais as nossas ferramentas?\n",
    "\n",
    "* Temos as ferramentas?\n",
    "* Podemos dar nome as coisas, Ex. Feminicídio, Violência Policial, etc ...\n",
    "* Como arquitetes estamos treinados para nuances, multiplas dimensões e difusão de fronteiras?\n",
    "    * Onde vc mora? Na rua, na cidade ou na sua casa/apartamento?\n",
    "* Podemos pensar em sistemas, sistema de espaços"
   ]
  },
  {
   "cell_type": "markdown",
   "id": "0877d0ee",
   "metadata": {},
   "source": [
    "## As monoculturas da mente\n",
    "\n",
    "> “A principal ameaça à vida em meio a diversidade deriva do hábito de pensarmos em termos de monoculturas, o que chamei de ‘monoculturas da mente’. As monoculturas da mente fazem a diversidade desaparecer da percepção e, consequentemente, do mundo. Adotar a diversidade como uma forma de pensar, como um contexto de ação, permite o surgimento de muitas opções”\n",
    "\n",
    "Vandana Shina"
   ]
  },
  {
   "cell_type": "markdown",
   "id": "42ac050d",
   "metadata": {},
   "source": [
    "# Smart City ou Smart Citzen\n",
    "\n",
    "> A cidade é um emaranhado de dimensões: sociais, biológicas, morfológicas, psicológicas, legais, ecológicas, ambientais, econômicas, etc ... associadas de forma difusa. Portanto, a cidade sempre é uma perspectiva, individual ou de um grupo sobre um modelo multidimensional. \n",
    "\n",
    "* Apesar de um consenso mínimo, O que é cidade para vc pode não ser cidade pra mim ou pra outra pessoa.\n",
    "* Continuamos inventando a cidade\n",
    "* A Cidade do futuro é a mesma cidade do presente e do passado."
   ]
  },
  {
   "cell_type": "markdown",
   "id": "b203b816",
   "metadata": {},
   "source": [
    "## Cidadania\n",
    "\n",
    "https://www.miltonsantos.com.br/site/wp-content/uploads/2011/12/As-cidadanias-mutiladas_MiltonSantos1996-1997SITE.pdf\n",
    "\n",
    "> \"E afinal a cidadania, que é o exercicio de direitos e supõe a ciência dos direitos que temos e a capacidade de reivindicar seu exercício pleno e também de reivindicar mais. Como tudo isso está ligado ao grau de consciência, voltamos, por conseguinte, à questão da individualidade.\"\n",
    "\n",
    "* Todes podem exercer os direitos com a mesma intensidade?\n",
    "* Todes conhecem os diretos e somos capazes de os reivindicar? E reinvindicar mais?"
   ]
  },
  {
   "cell_type": "markdown",
   "id": "621f0fd9",
   "metadata": {},
   "source": [
    "## Então a cidade também é poder!\n",
    "\n",
    "* Poder chegar rápido ao trabalho, Poder sequer trabalhar\n",
    "* Poder escolher onde estudar, Poder estudar\n",
    "* Poder ir ao parque todos os dias, Poder andar em uma calçada\n",
    "* Poder andar na rua sem ser assediada.\n",
    "* Poder simplesmente é poder, mesmo sem exercer"
   ]
  },
  {
   "cell_type": "markdown",
   "id": "07cb8f59",
   "metadata": {},
   "source": [
    "## Poder e perspectiva associados ...\n",
    "\n",
    "> .. pode tornar a cidade uma versão narrativa simplificadora de um determinado grupo de poder.\n",
    "\n",
    "* Qual o genero predominante nos nomes das ruas de São Paulo?\n",
    "\n",
    "https://medidasp.com/genero-ruas.html"
   ]
  },
  {
   "cell_type": "markdown",
   "id": "4e158b60",
   "metadata": {},
   "source": [
    "## E qual a responsabilidade de arquitetes / urban(istas|ologistas)?\n",
    "\n",
    "> Arquitetura e urban(ismo|ologia) tem como prerrogativa, descrever, analisar e prescrever sistemas espaciais para atividades humanas, considerando os aspectos bio-psico-sociais envolvidos.\n",
    "\n",
    "* por que prescrever e não projetar?"
   ]
  },
  {
   "cell_type": "markdown",
   "id": "585beb3a",
   "metadata": {},
   "source": [
    "## O espaço\n",
    "\n",
    "* O que é o espaço?\n",
    "* Por que medimos o espaço? (GeoMetria)\n",
    "* Só em 1972, pudemos nos \"enxergar\" do espaço longínquo\n",
    "\n",
    "https://en.wikipedia.org/wiki/The_Blue_Marble#/media/File:The_Earth_seen_from_Apollo_17.jpg_"
   ]
  },
  {
   "cell_type": "markdown",
   "id": "e88ff26f",
   "metadata": {},
   "source": [
    "## Será que estamos enxergando o espaço ao nosso redor?\n",
    "\n",
    "* https://www.estudiolaborg.com.br/lab/rios_descobertos/\n",
    "* https://www.youtube.com/watch?v=Fwh-cZfWNIc\n"
   ]
  },
  {
   "cell_type": "markdown",
   "id": "54488e77",
   "metadata": {},
   "source": [
    "## Indígenas e Alienígenas\n",
    "\n",
    "* Natural e Artefato\n",
    "* Dentro e Fora\n",
    "* Subnatural, Sobrenatural\n",
    "* Domônios e Deuses\n",
    "* Colonizados e Colonizadores\n",
    "* Urbanígenas (Seres de dentro da \"\"\"civilização\"\"\")"
   ]
  },
  {
   "cell_type": "markdown",
   "id": "b2ae6cca",
   "metadata": {},
   "source": [
    "# Guia Urbanígena para o Apocalipse Zumbi, antes da invasão alienígena\n",
    "\n",
    "* Estaremos seguros se:\n",
    "    * Se tivervos acesso democrático aos dados\n",
    "    * Se pudermos descrever e dar nomes aos fenômenos\n",
    "    * Se pensarmos e agirmos coletivamente e colaborativamente, sem a alienação das perspectivas hegemônicas\n",
    "    * Se tivermos ferramentas para prescrever sistemas espaciais baseados em eviidências\n",
    "    "
   ]
  },
  {
   "cell_type": "code",
   "execution_count": null,
   "id": "80fb4068",
   "metadata": {},
   "outputs": [],
   "source": []
  }
 ],
 "metadata": {
  "kernelspec": {
   "display_name": "Python 3 (ipykernel)",
   "language": "python",
   "name": "python3"
  },
  "language_info": {
   "codemirror_mode": {
    "name": "ipython",
    "version": 3
   },
   "file_extension": ".py",
   "mimetype": "text/x-python",
   "name": "python",
   "nbconvert_exporter": "python",
   "pygments_lexer": "ipython3",
   "version": "3.8.5"
  }
 },
 "nbformat": 4,
 "nbformat_minor": 5
}
